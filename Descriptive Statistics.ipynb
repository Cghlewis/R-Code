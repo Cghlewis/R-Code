{
 "cells": [
  {
   "cell_type": "code",
   "execution_count": 1,
   "metadata": {},
   "outputs": [],
   "source": [
    "import pandas as pd\n",
    "import numpy as np\n",
    "df = pd.read_excel(\"Comorbid.xlsx\")"
   ]
  },
  {
   "cell_type": "code",
   "execution_count": 2,
   "metadata": {},
   "outputs": [
    {
     "data": {
      "text/html": [
       "<div>\n",
       "<style scoped>\n",
       "    .dataframe tbody tr th:only-of-type {\n",
       "        vertical-align: middle;\n",
       "    }\n",
       "\n",
       "    .dataframe tbody tr th {\n",
       "        vertical-align: top;\n",
       "    }\n",
       "\n",
       "    .dataframe thead th {\n",
       "        text-align: right;\n",
       "    }\n",
       "</style>\n",
       "<table border=\"1\" class=\"dataframe\">\n",
       "  <thead>\n",
       "    <tr style=\"text-align: right;\">\n",
       "      <th></th>\n",
       "      <th>Age</th>\n",
       "      <th>Grade</th>\n",
       "      <th>Logistics</th>\n",
       "      <th>Temperature</th>\n",
       "      <th>Pneumonia</th>\n",
       "      <th>Hypertension</th>\n",
       "      <th>DiabetesMellitus</th>\n",
       "    </tr>\n",
       "  </thead>\n",
       "  <tbody>\n",
       "    <tr>\n",
       "      <th>0</th>\n",
       "      <td>77</td>\n",
       "      <td>B</td>\n",
       "      <td>Immediate Surgical intervention(then Ward / IC...</td>\n",
       "      <td>37.4</td>\n",
       "      <td>No</td>\n",
       "      <td>No</td>\n",
       "      <td>No</td>\n",
       "    </tr>\n",
       "    <tr>\n",
       "      <th>1</th>\n",
       "      <td>64</td>\n",
       "      <td>A</td>\n",
       "      <td>Admit to Ward for Care</td>\n",
       "      <td>38.0</td>\n",
       "      <td>No</td>\n",
       "      <td>Yes</td>\n",
       "      <td>No</td>\n",
       "    </tr>\n",
       "  </tbody>\n",
       "</table>\n",
       "</div>"
      ],
      "text/plain": [
       "   Age Grade                                          Logistics  Temperature  \\\n",
       "0   77     B  Immediate Surgical intervention(then Ward / IC...         37.4   \n",
       "1   64     A                             Admit to Ward for Care         38.0   \n",
       "\n",
       "  Pneumonia Hypertension DiabetesMellitus  \n",
       "0        No           No               No  \n",
       "1        No          Yes               No  "
      ]
     },
     "execution_count": 2,
     "metadata": {},
     "output_type": "execute_result"
    }
   ],
   "source": [
    "df.head(2)"
   ]
  },
  {
   "cell_type": "code",
   "execution_count": 3,
   "metadata": {},
   "outputs": [
    {
     "data": {
      "text/plain": [
       "Index(['Age', 'Grade', 'Logistics', 'Temperature', 'Pneumonia', 'Hypertension',\n",
       "       'DiabetesMellitus'],\n",
       "      dtype='object')"
      ]
     },
     "execution_count": 3,
     "metadata": {},
     "output_type": "execute_result"
    }
   ],
   "source": [
    "df.columns"
   ]
  },
  {
   "cell_type": "code",
   "execution_count": 5,
   "metadata": {},
   "outputs": [
    {
     "data": {
      "text/plain": [
       "55.10385259631491"
      ]
     },
     "execution_count": 5,
     "metadata": {},
     "output_type": "execute_result"
    }
   ],
   "source": [
    "df.Age.mean()"
   ]
  },
  {
   "cell_type": "code",
   "execution_count": 6,
   "metadata": {},
   "outputs": [
    {
     "data": {
      "text/plain": [
       "56.0"
      ]
     },
     "execution_count": 6,
     "metadata": {},
     "output_type": "execute_result"
    }
   ],
   "source": [
    "df.Age.median()"
   ]
  },
  {
   "cell_type": "code",
   "execution_count": 7,
   "metadata": {},
   "outputs": [
    {
     "data": {
      "text/plain": [
       "0    No\n",
       "dtype: object"
      ]
     },
     "execution_count": 7,
     "metadata": {},
     "output_type": "execute_result"
    }
   ],
   "source": [
    "df.DiabetesMellitus.mode()"
   ]
  },
  {
   "cell_type": "code",
   "execution_count": 8,
   "metadata": {},
   "outputs": [
    {
     "data": {
      "text/plain": [
       "No     532\n",
       "Yes     65\n",
       "Name: DiabetesMellitus, dtype: int64"
      ]
     },
     "execution_count": 8,
     "metadata": {},
     "output_type": "execute_result"
    }
   ],
   "source": [
    "df.DiabetesMellitus.value_counts()"
   ]
  },
  {
   "cell_type": "code",
   "execution_count": 10,
   "metadata": {},
   "outputs": [
    {
     "data": {
      "text/plain": [
       "No     89.112228\n",
       "Yes    10.887772\n",
       "Name: DiabetesMellitus, dtype: float64"
      ]
     },
     "execution_count": 10,
     "metadata": {},
     "output_type": "execute_result"
    }
   ],
   "source": [
    "df.DiabetesMellitus.value_counts(normalize=True)*100"
   ]
  },
  {
   "cell_type": "code",
   "execution_count": 11,
   "metadata": {},
   "outputs": [
    {
     "data": {
      "text/plain": [
       "18"
      ]
     },
     "execution_count": 11,
     "metadata": {},
     "output_type": "execute_result"
    }
   ],
   "source": [
    "df.Age.min()"
   ]
  },
  {
   "cell_type": "code",
   "execution_count": 12,
   "metadata": {},
   "outputs": [
    {
     "data": {
      "text/plain": [
       "90"
      ]
     },
     "execution_count": 12,
     "metadata": {},
     "output_type": "execute_result"
    }
   ],
   "source": [
    "df.Age.max()"
   ]
  },
  {
   "cell_type": "code",
   "execution_count": 13,
   "metadata": {},
   "outputs": [
    {
     "data": {
      "text/plain": [
       "21.71256560765737"
      ]
     },
     "execution_count": 13,
     "metadata": {},
     "output_type": "execute_result"
    }
   ],
   "source": [
    "df.Age.std()"
   ]
  },
  {
   "cell_type": "code",
   "execution_count": 14,
   "metadata": {},
   "outputs": [
    {
     "data": {
      "text/plain": [
       "471.43550526682577"
      ]
     },
     "execution_count": 14,
     "metadata": {},
     "output_type": "execute_result"
    }
   ],
   "source": [
    "df.Age.var()"
   ]
  },
  {
   "cell_type": "code",
   "execution_count": 15,
   "metadata": {},
   "outputs": [
    {
     "data": {
      "text/plain": [
       "0.00    18.0\n",
       "0.25    35.0\n",
       "0.50    56.0\n",
       "0.75    75.0\n",
       "1.00    90.0\n",
       "Name: Age, dtype: float64"
      ]
     },
     "execution_count": 15,
     "metadata": {},
     "output_type": "execute_result"
    }
   ],
   "source": [
    "df.Age.quantile([0,0.25,0.5,0.75,1])"
   ]
  },
  {
   "cell_type": "code",
   "execution_count": 17,
   "metadata": {},
   "outputs": [
    {
     "data": {
      "text/plain": [
       "array([77, 64, 87, 70, 85, 30, 60, 29, 73, 68, 54, 74, 47, 88, 39, 82, 84,\n",
       "       27, 22, 58, 53, 40, 87, 39, 70, 72, 43, 50, 39, 45, 26, 20, 82, 66,\n",
       "       39, 62, 57, 35, 49, 43, 77, 31, 30, 54, 64, 86, 54, 82, 21, 22, 79,\n",
       "       24, 74, 37, 28, 49, 69, 44, 30, 79, 49, 74, 77, 87, 50, 57, 76, 38,\n",
       "       55, 70, 68, 50, 59, 90, 81, 79, 30, 61, 21, 81, 48, 78, 80, 32, 45,\n",
       "       23, 43, 80, 25, 74, 46, 57, 26, 27, 71, 41, 34, 76, 49, 85, 65, 52,\n",
       "       19, 84, 64, 90, 81, 52, 77, 64, 83, 27, 86, 63, 55, 83, 63, 69, 26,\n",
       "       33, 59, 66, 34, 67, 22, 74, 59, 32, 86, 65, 24, 37, 23, 81, 19, 32,\n",
       "       37, 24, 24, 34, 33, 76, 63, 61, 45, 68, 84, 87, 85, 87, 78, 65, 61,\n",
       "       69, 62, 89, 88, 38, 85, 50, 24, 43, 54, 25, 81, 37, 90, 25, 30, 62,\n",
       "       36, 82, 86, 43, 30, 74, 49, 76, 76, 45, 78, 26, 30, 79, 47, 65, 47,\n",
       "       70, 19, 22, 23, 87, 70, 61, 68, 86, 20, 72, 45, 89, 81, 70, 66, 56,\n",
       "       57, 76, 84, 87, 84, 24, 40, 88, 84, 30, 63, 50, 65, 79, 36, 68, 67,\n",
       "       33, 59, 45, 29, 67, 87, 26, 71, 82, 70, 63, 70, 23, 32, 20, 69, 80,\n",
       "       69, 65, 68, 18, 48, 66, 56, 22, 26, 76, 29, 85, 79, 80, 83, 31, 46,\n",
       "       57, 63, 77, 77, 86, 19, 23, 51, 77, 54, 24, 87, 33, 70, 74, 42, 43,\n",
       "       74, 54, 68, 84, 19, 18, 54, 42, 75, 77, 87, 43, 55, 70, 26, 58, 87,\n",
       "       46, 64, 57, 71, 22, 29, 62, 83, 62, 81, 40, 88, 28, 55, 32, 61, 81,\n",
       "       23, 43, 67, 56, 21, 82, 42, 53, 88, 59, 29, 50, 21, 32, 66, 38, 58,\n",
       "       50, 58, 35, 68, 46, 25, 69, 68, 25, 31, 34, 30, 48, 76, 27, 20, 72,\n",
       "       49, 53, 85, 73, 89, 69, 25, 45, 75, 66, 50, 72, 50, 20, 59, 32, 46,\n",
       "       76, 20, 63, 59, 74, 44, 26, 19, 18, 78, 61, 70, 29, 79, 68, 22, 85,\n",
       "       18, 31, 41, 74, 82, 67, 85, 54, 33, 32, 55, 29, 37, 41, 30, 30, 35,\n",
       "       75, 86, 74, 57, 83, 60, 31, 83, 25, 41, 71, 44, 69, 54, 47, 83, 60,\n",
       "       80, 87, 57, 87, 45, 48, 37, 70, 72, 44, 48, 26, 37, 21, 67, 80, 34,\n",
       "       60, 82, 19, 76, 76, 30, 74, 65, 30, 56, 80, 28, 82, 30, 24, 18, 43,\n",
       "       86, 73, 34, 45, 35, 76, 55, 81, 30, 87, 23, 40, 29, 50, 88, 60, 55,\n",
       "       90, 20, 32, 87, 89, 18, 48, 41, 45, 89, 50, 41, 53, 63, 76, 80, 53,\n",
       "       27, 87, 22, 86, 64, 51, 46, 22, 57, 56, 43, 35, 75, 78, 75, 53, 61,\n",
       "       71, 30, 37, 66, 49, 23, 48, 81, 24, 82, 57, 74, 89, 74, 89, 75, 40,\n",
       "       18, 42, 81, 18, 37, 35, 71, 60, 74, 60, 83, 66, 53, 28, 72, 83, 42,\n",
       "       49, 44, 43, 85, 38, 88, 48, 18, 79, 26, 22, 73, 78, 31, 83, 50, 26,\n",
       "       46, 58, 37, 29, 65, 63, 61, 68, 20, 76, 84, 20, 18, 29, 67, 64, 41,\n",
       "       78, 68, 77, 82, 32, 49, 36, 34, 25, 89, 51, 20, 79, 50, 85, 51, 32,\n",
       "       50, 35, 49, 63, 44, 78, 86, 40, 65, 37, 79, 61, 60, 54, 54, 40, 18,\n",
       "       33, 24], dtype=int64)"
      ]
     },
     "execution_count": 17,
     "metadata": {},
     "output_type": "execute_result"
    }
   ],
   "source": [
    "df.Age.values"
   ]
  },
  {
   "cell_type": "code",
   "execution_count": 20,
   "metadata": {},
   "outputs": [
    {
     "data": {
      "text/plain": [
       "array([18., 35., 56., 75., 84., 90.])"
      ]
     },
     "execution_count": 20,
     "metadata": {},
     "output_type": "execute_result"
    }
   ],
   "source": [
    "np.percentile(df.Age.values, [0, 25,50,75,90,100])"
   ]
  },
  {
   "cell_type": "code",
   "execution_count": 22,
   "metadata": {},
   "outputs": [],
   "source": [
    "from scipy import stats"
   ]
  },
  {
   "cell_type": "code",
   "execution_count": 24,
   "metadata": {},
   "outputs": [
    {
     "data": {
      "text/plain": [
       "40.0"
      ]
     },
     "execution_count": 24,
     "metadata": {},
     "output_type": "execute_result"
    }
   ],
   "source": [
    "stats.iqr(df.Age)"
   ]
  },
  {
   "cell_type": "code",
   "execution_count": 25,
   "metadata": {},
   "outputs": [
    {
     "data": {
      "text/plain": [
       "count    597.000000\n",
       "mean      55.103853\n",
       "std       21.712566\n",
       "min       18.000000\n",
       "25%       35.000000\n",
       "50%       56.000000\n",
       "75%       75.000000\n",
       "max       90.000000\n",
       "Name: Age, dtype: float64"
      ]
     },
     "execution_count": 25,
     "metadata": {},
     "output_type": "execute_result"
    }
   ],
   "source": [
    "df.Age.describe()"
   ]
  },
  {
   "cell_type": "code",
   "execution_count": 26,
   "metadata": {},
   "outputs": [
    {
     "data": {
      "text/plain": [
       "No     532\n",
       "Yes     65\n",
       "Name: DiabetesMellitus, dtype: int64"
      ]
     },
     "execution_count": 26,
     "metadata": {},
     "output_type": "execute_result"
    }
   ],
   "source": [
    "df.DiabetesMellitus.value_counts()"
   ]
  }
 ],
 "metadata": {
  "kernelspec": {
   "display_name": "Python 3",
   "language": "python",
   "name": "python3"
  },
  "language_info": {
   "codemirror_mode": {
    "name": "ipython",
    "version": 3
   },
   "file_extension": ".py",
   "mimetype": "text/x-python",
   "name": "python",
   "nbconvert_exporter": "python",
   "pygments_lexer": "ipython3",
   "version": "3.6.5"
  }
 },
 "nbformat": 4,
 "nbformat_minor": 2
}
